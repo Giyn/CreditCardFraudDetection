{
 "cells": [
  {
   "cell_type": "markdown",
   "metadata": {},
   "source": [
    "# 相关设置"
   ]
  },
  {
   "cell_type": "code",
   "execution_count": 1,
   "metadata": {},
   "outputs": [],
   "source": [
    "from IPython.core.interactiveshell import InteractiveShell\n",
    "\n",
    "import calendar\n",
    "import datetime\n",
    "import pandas as pd\n",
    "import numpy as np\n",
    "import matplotlib.pyplot as plt\n",
    "import seaborn as sns\n",
    "import missingno as msno\n",
    "from scipy import stats\n",
    "from sklearn.ensemble import RandomForestRegressor\n",
    "%matplotlib inline\n",
    "\n",
    "InteractiveShell.ast_node_interactivity = \"all\"  # 一个cell显示多输出\n",
    "\n",
    "pd.set_option('display.max_rows', 100)  # 设置最大显示100行\n",
    "pd.set_option('display.max_columns', 100)  # 设置最大显示100列"
   ]
  },
  {
   "cell_type": "code",
   "execution_count": 2,
   "metadata": {},
   "outputs": [
    {
     "data": {
      "text/html": [
       "<div>\n",
       "<style scoped>\n",
       "    .dataframe tbody tr th:only-of-type {\n",
       "        vertical-align: middle;\n",
       "    }\n",
       "\n",
       "    .dataframe tbody tr th {\n",
       "        vertical-align: top;\n",
       "    }\n",
       "\n",
       "    .dataframe thead th {\n",
       "        text-align: right;\n",
       "    }\n",
       "</style>\n",
       "<table border=\"1\" class=\"dataframe\">\n",
       "  <thead>\n",
       "    <tr style=\"text-align: right;\">\n",
       "      <th></th>\n",
       "      <th>V1</th>\n",
       "      <th>V2</th>\n",
       "      <th>V3</th>\n",
       "      <th>V4</th>\n",
       "      <th>V5</th>\n",
       "      <th>V6</th>\n",
       "      <th>V7</th>\n",
       "      <th>V8</th>\n",
       "      <th>V9</th>\n",
       "      <th>V10</th>\n",
       "      <th>V11</th>\n",
       "      <th>V12</th>\n",
       "      <th>V13</th>\n",
       "      <th>V14</th>\n",
       "      <th>V15</th>\n",
       "      <th>V16</th>\n",
       "      <th>V17</th>\n",
       "      <th>V18</th>\n",
       "      <th>V19</th>\n",
       "      <th>V20</th>\n",
       "      <th>V21</th>\n",
       "      <th>V22</th>\n",
       "      <th>V23</th>\n",
       "      <th>V24</th>\n",
       "      <th>V25</th>\n",
       "      <th>V26</th>\n",
       "      <th>V27</th>\n",
       "      <th>V28</th>\n",
       "      <th>Amount</th>\n",
       "      <th>Class</th>\n",
       "    </tr>\n",
       "  </thead>\n",
       "  <tbody>\n",
       "    <tr>\n",
       "      <th>0</th>\n",
       "      <td>-0.694242</td>\n",
       "      <td>-0.044075</td>\n",
       "      <td>1.672773</td>\n",
       "      <td>0.973366</td>\n",
       "      <td>-0.245117</td>\n",
       "      <td>0.347068</td>\n",
       "      <td>0.193679</td>\n",
       "      <td>0.082637</td>\n",
       "      <td>0.331128</td>\n",
       "      <td>0.083386</td>\n",
       "      <td>-0.540407</td>\n",
       "      <td>-0.618296</td>\n",
       "      <td>-0.996099</td>\n",
       "      <td>-0.324610</td>\n",
       "      <td>1.604014</td>\n",
       "      <td>-0.536833</td>\n",
       "      <td>0.244863</td>\n",
       "      <td>0.030770</td>\n",
       "      <td>0.496282</td>\n",
       "      <td>0.326118</td>\n",
       "      <td>-0.024923</td>\n",
       "      <td>0.382854</td>\n",
       "      <td>-0.176911</td>\n",
       "      <td>0.110507</td>\n",
       "      <td>0.246585</td>\n",
       "      <td>-0.392170</td>\n",
       "      <td>0.330892</td>\n",
       "      <td>-0.063781</td>\n",
       "      <td>149.62</td>\n",
       "      <td>0</td>\n",
       "    </tr>\n",
       "    <tr>\n",
       "      <th>1</th>\n",
       "      <td>0.608496</td>\n",
       "      <td>0.161176</td>\n",
       "      <td>0.109797</td>\n",
       "      <td>0.316523</td>\n",
       "      <td>0.043483</td>\n",
       "      <td>-0.061820</td>\n",
       "      <td>-0.063700</td>\n",
       "      <td>0.071253</td>\n",
       "      <td>-0.232494</td>\n",
       "      <td>-0.153350</td>\n",
       "      <td>1.580003</td>\n",
       "      <td>1.066089</td>\n",
       "      <td>0.491418</td>\n",
       "      <td>-0.149982</td>\n",
       "      <td>0.694360</td>\n",
       "      <td>0.529434</td>\n",
       "      <td>-0.135170</td>\n",
       "      <td>-0.218763</td>\n",
       "      <td>-0.179086</td>\n",
       "      <td>-0.089611</td>\n",
       "      <td>-0.307377</td>\n",
       "      <td>-0.880077</td>\n",
       "      <td>0.162201</td>\n",
       "      <td>-0.561131</td>\n",
       "      <td>0.320694</td>\n",
       "      <td>0.261069</td>\n",
       "      <td>-0.022256</td>\n",
       "      <td>0.044608</td>\n",
       "      <td>2.69</td>\n",
       "      <td>0</td>\n",
       "    </tr>\n",
       "    <tr>\n",
       "      <th>2</th>\n",
       "      <td>-0.693500</td>\n",
       "      <td>-0.811578</td>\n",
       "      <td>1.169468</td>\n",
       "      <td>0.268231</td>\n",
       "      <td>-0.364572</td>\n",
       "      <td>1.351454</td>\n",
       "      <td>0.639776</td>\n",
       "      <td>0.207373</td>\n",
       "      <td>-1.378675</td>\n",
       "      <td>0.190700</td>\n",
       "      <td>0.611830</td>\n",
       "      <td>0.066137</td>\n",
       "      <td>0.720700</td>\n",
       "      <td>-0.173114</td>\n",
       "      <td>2.562906</td>\n",
       "      <td>-3.298235</td>\n",
       "      <td>1.306868</td>\n",
       "      <td>-0.144790</td>\n",
       "      <td>-2.778561</td>\n",
       "      <td>0.680975</td>\n",
       "      <td>0.337632</td>\n",
       "      <td>1.063358</td>\n",
       "      <td>1.456320</td>\n",
       "      <td>-1.138092</td>\n",
       "      <td>-0.628537</td>\n",
       "      <td>-0.288447</td>\n",
       "      <td>-0.137137</td>\n",
       "      <td>-0.181021</td>\n",
       "      <td>378.66</td>\n",
       "      <td>0</td>\n",
       "    </tr>\n",
       "    <tr>\n",
       "      <th>3</th>\n",
       "      <td>-0.493325</td>\n",
       "      <td>-0.112169</td>\n",
       "      <td>1.182516</td>\n",
       "      <td>-0.609727</td>\n",
       "      <td>-0.007469</td>\n",
       "      <td>0.936150</td>\n",
       "      <td>0.192071</td>\n",
       "      <td>0.316018</td>\n",
       "      <td>-1.262503</td>\n",
       "      <td>-0.050468</td>\n",
       "      <td>-0.221892</td>\n",
       "      <td>0.178371</td>\n",
       "      <td>0.510169</td>\n",
       "      <td>-0.300360</td>\n",
       "      <td>-0.689837</td>\n",
       "      <td>-1.209296</td>\n",
       "      <td>-0.805445</td>\n",
       "      <td>2.345305</td>\n",
       "      <td>-1.514205</td>\n",
       "      <td>-0.269855</td>\n",
       "      <td>-0.147443</td>\n",
       "      <td>0.007267</td>\n",
       "      <td>-0.304777</td>\n",
       "      <td>-1.941027</td>\n",
       "      <td>1.241904</td>\n",
       "      <td>-0.460217</td>\n",
       "      <td>0.155396</td>\n",
       "      <td>0.186189</td>\n",
       "      <td>123.50</td>\n",
       "      <td>0</td>\n",
       "    </tr>\n",
       "    <tr>\n",
       "      <th>4</th>\n",
       "      <td>-0.591330</td>\n",
       "      <td>0.531541</td>\n",
       "      <td>1.021412</td>\n",
       "      <td>0.284655</td>\n",
       "      <td>-0.295015</td>\n",
       "      <td>0.071999</td>\n",
       "      <td>0.479302</td>\n",
       "      <td>-0.226510</td>\n",
       "      <td>0.744326</td>\n",
       "      <td>0.691625</td>\n",
       "      <td>-0.806147</td>\n",
       "      <td>0.538627</td>\n",
       "      <td>1.352244</td>\n",
       "      <td>-1.168034</td>\n",
       "      <td>0.191323</td>\n",
       "      <td>-0.515205</td>\n",
       "      <td>-0.279081</td>\n",
       "      <td>-0.045569</td>\n",
       "      <td>0.987037</td>\n",
       "      <td>0.529939</td>\n",
       "      <td>-0.012839</td>\n",
       "      <td>1.100011</td>\n",
       "      <td>-0.220123</td>\n",
       "      <td>0.233250</td>\n",
       "      <td>-0.395202</td>\n",
       "      <td>1.041611</td>\n",
       "      <td>0.543620</td>\n",
       "      <td>0.651816</td>\n",
       "      <td>69.99</td>\n",
       "      <td>0</td>\n",
       "    </tr>\n",
       "  </tbody>\n",
       "</table>\n",
       "</div>"
      ],
      "text/plain": [
       "         V1        V2        V3        V4        V5        V6        V7  \\\n",
       "0 -0.694242 -0.044075  1.672773  0.973366 -0.245117  0.347068  0.193679   \n",
       "1  0.608496  0.161176  0.109797  0.316523  0.043483 -0.061820 -0.063700   \n",
       "2 -0.693500 -0.811578  1.169468  0.268231 -0.364572  1.351454  0.639776   \n",
       "3 -0.493325 -0.112169  1.182516 -0.609727 -0.007469  0.936150  0.192071   \n",
       "4 -0.591330  0.531541  1.021412  0.284655 -0.295015  0.071999  0.479302   \n",
       "\n",
       "         V8        V9       V10       V11       V12       V13       V14  \\\n",
       "0  0.082637  0.331128  0.083386 -0.540407 -0.618296 -0.996099 -0.324610   \n",
       "1  0.071253 -0.232494 -0.153350  1.580003  1.066089  0.491418 -0.149982   \n",
       "2  0.207373 -1.378675  0.190700  0.611830  0.066137  0.720700 -0.173114   \n",
       "3  0.316018 -1.262503 -0.050468 -0.221892  0.178371  0.510169 -0.300360   \n",
       "4 -0.226510  0.744326  0.691625 -0.806147  0.538627  1.352244 -1.168034   \n",
       "\n",
       "        V15       V16       V17       V18       V19       V20       V21  \\\n",
       "0  1.604014 -0.536833  0.244863  0.030770  0.496282  0.326118 -0.024923   \n",
       "1  0.694360  0.529434 -0.135170 -0.218763 -0.179086 -0.089611 -0.307377   \n",
       "2  2.562906 -3.298235  1.306868 -0.144790 -2.778561  0.680975  0.337632   \n",
       "3 -0.689837 -1.209296 -0.805445  2.345305 -1.514205 -0.269855 -0.147443   \n",
       "4  0.191323 -0.515205 -0.279081 -0.045569  0.987037  0.529939 -0.012839   \n",
       "\n",
       "        V22       V23       V24       V25       V26       V27       V28  \\\n",
       "0  0.382854 -0.176911  0.110507  0.246585 -0.392170  0.330892 -0.063781   \n",
       "1 -0.880077  0.162201 -0.561131  0.320694  0.261069 -0.022256  0.044608   \n",
       "2  1.063358  1.456320 -1.138092 -0.628537 -0.288447 -0.137137 -0.181021   \n",
       "3  0.007267 -0.304777 -1.941027  1.241904 -0.460217  0.155396  0.186189   \n",
       "4  1.100011 -0.220123  0.233250 -0.395202  1.041611  0.543620  0.651816   \n",
       "\n",
       "   Amount  Class  \n",
       "0  149.62      0  \n",
       "1    2.69      0  \n",
       "2  378.66      0  \n",
       "3  123.50      0  \n",
       "4   69.99      0  "
      ]
     },
     "execution_count": 2,
     "metadata": {},
     "output_type": "execute_result"
    },
    {
     "name": "stdout",
     "output_type": "stream",
     "text": [
      "<class 'pandas.core.frame.DataFrame'>\n",
      "RangeIndex: 284807 entries, 0 to 284806\n",
      "Data columns (total 30 columns):\n",
      " #   Column  Non-Null Count   Dtype  \n",
      "---  ------  --------------   -----  \n",
      " 0   V1      284807 non-null  float64\n",
      " 1   V2      284807 non-null  float64\n",
      " 2   V3      284807 non-null  float64\n",
      " 3   V4      284807 non-null  float64\n",
      " 4   V5      284807 non-null  float64\n",
      " 5   V6      284807 non-null  float64\n",
      " 6   V7      284807 non-null  float64\n",
      " 7   V8      284807 non-null  float64\n",
      " 8   V9      284807 non-null  float64\n",
      " 9   V10     284807 non-null  float64\n",
      " 10  V11     284807 non-null  float64\n",
      " 11  V12     284807 non-null  float64\n",
      " 12  V13     284807 non-null  float64\n",
      " 13  V14     284807 non-null  float64\n",
      " 14  V15     284807 non-null  float64\n",
      " 15  V16     284807 non-null  float64\n",
      " 16  V17     284807 non-null  float64\n",
      " 17  V18     284807 non-null  float64\n",
      " 18  V19     284807 non-null  float64\n",
      " 19  V20     284807 non-null  float64\n",
      " 20  V21     284807 non-null  float64\n",
      " 21  V22     284807 non-null  float64\n",
      " 22  V23     284807 non-null  float64\n",
      " 23  V24     284807 non-null  float64\n",
      " 24  V25     284807 non-null  float64\n",
      " 25  V26     284807 non-null  float64\n",
      " 26  V27     284807 non-null  float64\n",
      " 27  V28     284807 non-null  float64\n",
      " 28  Amount  284807 non-null  float64\n",
      " 29  Class   284807 non-null  int64  \n",
      "dtypes: float64(29), int64(1)\n",
      "memory usage: 65.2 MB\n"
     ]
    }
   ],
   "source": [
    "data = pd.read_csv('data/data.csv')\n",
    "data.head()\n",
    "data.info()"
   ]
  },
  {
   "cell_type": "markdown",
   "metadata": {},
   "source": [
    "# 样本不均衡"
   ]
  },
  {
   "cell_type": "code",
   "execution_count": 3,
   "metadata": {},
   "outputs": [
    {
     "data": {
      "text/plain": [
       "0    284315\n",
       "1       492\n",
       "Name: Class, dtype: int64"
      ]
     },
     "execution_count": 3,
     "metadata": {},
     "output_type": "execute_result"
    }
   ],
   "source": [
    "data['Class'].value_counts()"
   ]
  },
  {
   "cell_type": "code",
   "execution_count": 4,
   "metadata": {},
   "outputs": [],
   "source": [
    "unfraud_data = data[data['Class'] == 0].values\n",
    "fraud_data = data[data['Class'] == 1].values"
   ]
  },
  {
   "cell_type": "markdown",
   "metadata": {},
   "source": [
    "# SMOTE 算法"
   ]
  },
  {
   "cell_type": "code",
   "execution_count": 5,
   "metadata": {},
   "outputs": [],
   "source": [
    "import random\n",
    "from sklearn.neighbors import NearestNeighbors\n",
    "\n",
    "class Smote:\n",
    "    def __init__(self, samples, N=10, k=5):\n",
    "        self.n_samples, self.n_attrs = samples.shape\n",
    "        self.N = N\n",
    "        self.k = k\n",
    "        self.samples = samples\n",
    "        self.new_index = 0\n",
    "\n",
    "    def over_sampling(self):\n",
    "        N_ = int(self.N / 100)\n",
    "        self.synthetic = np.zeros((self.n_samples * N_, self.n_attrs))\n",
    "        neighbors = NearestNeighbors(n_neighbors=self.k).fit(self.samples)\n",
    "        # print('neighbors', neighbors)\n",
    "        for i in range(len(self.samples)):\n",
    "            # print('samples', self.samples[i])\n",
    "            # Finds the K-neighbors of a point.\n",
    "            nnarray = neighbors.kneighbors(self.samples[i].reshape((1, -1)),\n",
    "                                           return_distance=False)[0]\n",
    "            # print('nna', nnarray)\n",
    "            self._populate(N_, i, nnarray)\n",
    "        return self.synthetic\n",
    "\n",
    "    # for each minority class sample i ,choose N of the k nearest neighbors and generate N synthetic samples.\n",
    "    def _populate(self, N, i, nnarray):\n",
    "        for j in range(N):\n",
    "            # print('j', j)\n",
    "            nn = random.randint(0, self.k - 1)  # 包括end\n",
    "            dif = self.samples[nnarray[nn]] - self.samples[i]\n",
    "            gap = random.random()\n",
    "            self.synthetic[self.new_index] = self.samples[i] + gap * dif\n",
    "            self.new_index += 1\n",
    "            # print(self.new_index)"
   ]
  },
  {
   "cell_type": "code",
   "execution_count": 6,
   "metadata": {},
   "outputs": [],
   "source": [
    "smote = Smote(fraud_data, N=1000)\n",
    "smote_fraud_data = smote.over_sampling()"
   ]
  },
  {
   "cell_type": "code",
   "execution_count": 7,
   "metadata": {},
   "outputs": [],
   "source": [
    "new_fraud_data = np.vstack((fraud_data, smote_fraud_data))"
   ]
  },
  {
   "cell_type": "code",
   "execution_count": 8,
   "metadata": {},
   "outputs": [
    {
     "data": {
      "text/plain": [
       "5412"
      ]
     },
     "execution_count": 8,
     "metadata": {},
     "output_type": "execute_result"
    }
   ],
   "source": [
    "len(new_fraud_data)"
   ]
  },
  {
   "cell_type": "code",
   "execution_count": 9,
   "metadata": {},
   "outputs": [],
   "source": [
    "all_data = np.vstack((new_fraud_data, unfraud_data))"
   ]
  },
  {
   "cell_type": "code",
   "execution_count": 10,
   "metadata": {},
   "outputs": [
    {
     "data": {
      "text/plain": [
       "(289727, 30)"
      ]
     },
     "execution_count": 10,
     "metadata": {},
     "output_type": "execute_result"
    }
   ],
   "source": [
    "all_data.shape"
   ]
  },
  {
   "cell_type": "code",
   "execution_count": 11,
   "metadata": {},
   "outputs": [
    {
     "name": "stdout",
     "output_type": "stream",
     "text": [
      "(202808, 30)\n",
      "(86919, 30)\n"
     ]
    }
   ],
   "source": [
    "from sklearn.model_selection import train_test_split\n",
    "\n",
    "train_set, test_set = train_test_split(all_data, test_size=0.3, random_state=412)\n",
    "\n",
    "print(train_set.shape)\n",
    "print(test_set.shape)"
   ]
  },
  {
   "cell_type": "code",
   "execution_count": 12,
   "metadata": {},
   "outputs": [],
   "source": [
    "X = train_set[:, 0:29]\n",
    "y = train_set[:, -1]\n",
    "X_test = test_set[:, 0:29]\n",
    "y_test = test_set[:, -1]"
   ]
  },
  {
   "cell_type": "code",
   "execution_count": 13,
   "metadata": {},
   "outputs": [],
   "source": [
    "import tensorflow\n",
    "from tensorflow.keras.layers import Dense\n",
    "from tensorflow.keras.models import Sequential"
   ]
  },
  {
   "cell_type": "code",
   "execution_count": 14,
   "metadata": {},
   "outputs": [],
   "source": [
    "n_inputs = 29"
   ]
  },
  {
   "cell_type": "code",
   "execution_count": 15,
   "metadata": {},
   "outputs": [
    {
     "name": "stdout",
     "output_type": "stream",
     "text": [
      "Epoch 1/10\n",
      "6338/6338 [==============================] - 4s 605us/step - loss: 0.3820\n",
      "Epoch 2/10\n",
      "6338/6338 [==============================] - 4s 568us/step - loss: 0.0339\n",
      "Epoch 3/10\n",
      "6338/6338 [==============================] - 4s 565us/step - loss: 0.0471\n",
      "Epoch 4/10\n",
      "6338/6338 [==============================] - 4s 600us/step - loss: 0.0212\n",
      "Epoch 5/10\n",
      "6338/6338 [==============================] - 4s 652us/step - loss: 0.0255\n",
      "Epoch 6/10\n",
      "6338/6338 [==============================] - 4s 652us/step - loss: 0.0218\n",
      "Epoch 7/10\n",
      "6338/6338 [==============================] - 4s 676us/step - loss: 0.0243\n",
      "Epoch 8/10\n",
      "6338/6338 [==============================] - 4s 668us/step - loss: 0.0186\n",
      "Epoch 9/10\n",
      "6338/6338 [==============================] - 4s 664us/step - loss: 0.0319\n",
      "Epoch 10/10\n",
      "6338/6338 [==============================] - 4s 663us/step - loss: 0.0157\n"
     ]
    },
    {
     "data": {
      "text/plain": [
       "<tensorflow.python.keras.callbacks.History at 0x23e93f9b448>"
      ]
     },
     "execution_count": 15,
     "metadata": {},
     "output_type": "execute_result"
    }
   ],
   "source": [
    "# define model\n",
    "model = Sequential()\n",
    "# define first hidden layer and visible layer\n",
    "model.add(Dense(50, input_dim=n_inputs, activation='relu', kernel_initializer='he_uniform'))\n",
    "# define output layer\n",
    "model.add(Dense(1, activation='sigmoid'))\n",
    "# define loss and optimizer\n",
    "model.compile(loss='binary_crossentropy', optimizer='adam')\n",
    "model.fit(X, y, epochs=10)"
   ]
  },
  {
   "cell_type": "code",
   "execution_count": 16,
   "metadata": {},
   "outputs": [
    {
     "name": "stdout",
     "output_type": "stream",
     "text": [
      "0.9950346851011155\n"
     ]
    }
   ],
   "source": [
    "from sklearn.metrics import roc_auc_score\n",
    "\n",
    "y_pred = model.predict(X_test)\n",
    "\n",
    "print(roc_auc_score(y_test, y_pred))"
   ]
  },
  {
   "cell_type": "code",
   "execution_count": 19,
   "metadata": {},
   "outputs": [
    {
     "name": "stdout",
     "output_type": "stream",
     "text": [
      "[[1.1003911e-03]\n",
      " [1.3017654e-03]\n",
      " [2.9378289e-06]\n",
      " ...\n",
      " [3.3190846e-04]\n",
      " [1.3257265e-03]\n",
      " [3.2418966e-04]]\n"
     ]
    }
   ],
   "source": [
    "print(y_pred)"
   ]
  },
  {
   "cell_type": "markdown",
   "metadata": {},
   "source": [
    "# 特征选择"
   ]
  },
  {
   "cell_type": "code",
   "execution_count": 21,
   "metadata": {},
   "outputs": [],
   "source": [
    "from sklearn import datasets, linear_model\n",
    "from sklearn.linear_model import LinearRegression\n",
    "import statsmodels.api as sm\n",
    "from scipy import stats"
   ]
  },
  {
   "cell_type": "code",
   "execution_count": 27,
   "metadata": {},
   "outputs": [
    {
     "name": "stdout",
     "output_type": "stream",
     "text": [
      "['V1', 'V2', 'V3', 'V4', 'V5', 'V6', 'V7', 'V8', 'V9', 'V10', 'V11', 'V12', 'V13', 'V14', 'V15', 'V16', 'V17', 'V18', 'V19', 'V20', 'V21', 'V22', 'V23', 'V24', 'V25', 'V26', 'V27', 'V28', 'Amount']\n"
     ]
    }
   ],
   "source": [
    "features_list = [f\"V{num}\" for num in range(1, 29)]\n",
    "features_list.append('Amount')\n",
    "print(features_list)"
   ]
  },
  {
   "cell_type": "code",
   "execution_count": 28,
   "metadata": {},
   "outputs": [
    {
     "name": "stdout",
     "output_type": "stream",
     "text": [
      "                            OLS Regression Results                            \n",
      "==============================================================================\n",
      "Dep. Variable:                  Class   R-squared:                       0.522\n",
      "Model:                            OLS   Adj. R-squared:                  0.522\n",
      "Method:                 Least Squares   F-statistic:                 1.071e+04\n",
      "Date:                Tue, 23 Mar 2021   Prob (F-statistic):               0.00\n",
      "Time:                        16:23:08   Log-Likelihood:             6.0697e+05\n",
      "No. Observations:              284807   AIC:                        -1.214e+06\n",
      "Df Residuals:                  284777   BIC:                        -1.214e+06\n",
      "Df Model:                          29                                         \n",
      "Covariance Type:            nonrobust                                         \n",
      "==============================================================================\n",
      "                 coef    std err          t      P>|t|      [0.025      0.975]\n",
      "------------------------------------------------------------------------------\n",
      "const          0.0011   8.53e-05     12.838      0.000       0.001       0.001\n",
      "x1            -0.0038   6.87e-05    -55.345      0.000      -0.004      -0.004\n",
      "x2             0.0047      0.000     41.903      0.000       0.005       0.005\n",
      "x3            -0.0076   6.68e-05   -114.364      0.000      -0.008      -0.008\n",
      "x4             0.0054   5.69e-05     94.267      0.000       0.005       0.005\n",
      "x5            -0.0033   9.02e-05    -36.057      0.000      -0.003      -0.003\n",
      "x6            -0.0022   6.73e-05    -32.658      0.000      -0.002      -0.002\n",
      "x7            -0.0085   9.19e-05    -92.402      0.000      -0.009      -0.008\n",
      "x8             0.0010   5.72e-05     17.661      0.000       0.001       0.001\n",
      "x9            -0.0040   5.45e-05    -73.073      0.000      -0.004      -0.004\n",
      "x10           -0.0088   5.71e-05   -154.596      0.000      -0.009      -0.009\n",
      "x11            0.0064   5.38e-05    119.492      0.000       0.006       0.007\n",
      "x12           -0.0108   5.39e-05   -200.635      0.000      -0.011      -0.011\n",
      "x13           -0.0002   5.38e-05     -3.701      0.000      -0.000   -9.37e-05\n",
      "x14           -0.0126   5.42e-05   -232.951      0.000      -0.013      -0.013\n",
      "x15           -0.0002   5.38e-05     -3.159      0.002      -0.000   -6.45e-05\n",
      "x16           -0.0082   5.38e-05   -151.497      0.000      -0.008      -0.008\n",
      "x17           -0.0136   5.38e-05   -252.061      0.000      -0.014      -0.013\n",
      "x18           -0.0047   5.42e-05    -86.539      0.000      -0.005      -0.005\n",
      "x19            0.0015   5.48e-05     28.172      0.000       0.001       0.002\n",
      "x20            0.0002   8.33e-05      2.721      0.007    6.34e-05       0.000\n",
      "x21            0.0015   5.74e-05     25.946      0.000       0.001       0.002\n",
      "x22            0.0001   5.52e-05      2.709      0.007    4.13e-05       0.000\n",
      "x23         9.014e-05   5.78e-05      1.559      0.119   -2.32e-05       0.000\n",
      "x24           -0.0003   5.38e-05     -5.742      0.000      -0.000      -0.000\n",
      "x25            0.0002   5.46e-05      4.087      0.000       0.000       0.000\n",
      "x26            0.0002   5.38e-05      3.544      0.000    8.53e-05       0.000\n",
      "x27            0.0007   5.41e-05     12.542      0.000       0.001       0.001\n",
      "x28            0.0004   5.39e-05      7.012      0.000       0.000       0.000\n",
      "x29         7.158e-06   7.49e-07      9.556      0.000    5.69e-06    8.63e-06\n",
      "==============================================================================\n",
      "Omnibus:                   596347.050   Durbin-Watson:                   1.971\n",
      "Prob(Omnibus):                  0.000   Jarque-Bera (JB):       8573059345.682\n",
      "Skew:                          17.565   Prob(JB):                         0.00\n",
      "Kurtosis:                     852.233   Cond. No.                         979.\n",
      "==============================================================================\n",
      "\n",
      "Notes:\n",
      "[1] Standard Errors assume that the covariance matrix of the errors is correctly specified.\n"
     ]
    }
   ],
   "source": [
    "X_constant = sm.add_constant(data[features_list])\n",
    "\n",
    "est = sm.OLS(data.Class, X_constant.values)\n",
    "est_res = est.fit()\n",
    "print(est_res.summary())"
   ]
  },
  {
   "cell_type": "code",
   "execution_count": 30,
   "metadata": {},
   "outputs": [
    {
     "name": "stdout",
     "output_type": "stream",
     "text": [
      "   features         score\n",
      "16      V17  33979.168593\n",
      "13      V14  28695.547788\n",
      "11      V12  20749.822361\n",
      "9       V10  14057.979985\n",
      "15      V16  11443.349428\n",
      "2        V3  11014.508305\n",
      "6        V7  10349.605408\n",
      "10      V11   6999.355047\n",
      "3        V4   5163.832114\n",
      "17      V18   3584.380605\n",
      "0        V1   2955.668946\n",
      "8        V9   2746.600273\n",
      "4        V5   2592.357929\n",
      "1        V2   2393.401678\n",
      "5        V6    543.510578\n",
      "20      V21    465.916251\n",
      "18      V19    344.990997\n",
      "19      V20    114.999731\n",
      "7        V8    112.548287\n",
      "26      V27     88.045296\n",
      "27      V28     25.901405\n",
      "23      V24     14.850932\n",
      "28   Amount      9.033345\n",
      "12      V13      5.947672\n",
      "25      V26      5.653653\n",
      "14      V15      5.080193\n",
      "24      V25      3.116062\n",
      "22      V23      2.053476\n",
      "21      V22      0.184706\n"
     ]
    }
   ],
   "source": [
    "from sklearn.feature_selection import SelectKBest\n",
    "from sklearn.feature_selection import f_regression\n",
    "\n",
    "best_features = SelectKBest(score_func=f_regression, k=10)\n",
    "best_features_fit = best_features.fit(data, data.Class)\n",
    "df_scores = pd.DataFrame(best_features_fit.scores_)\n",
    "df_columns = pd.DataFrame(data.columns)\n",
    "\n",
    "feature_scores = pd.concat([df_columns, df_scores], axis=1)\n",
    "feature_scores.columns = ['features','score']\n",
    "\n",
    "print(feature_scores.nlargest(29, 'score'))"
   ]
  }
 ],
 "metadata": {
  "kernelspec": {
   "display_name": "PyCharm (BikeSharingDemand)",
   "language": "python",
   "name": "pycharm-3aa9f35f"
  },
  "language_info": {
   "codemirror_mode": {
    "name": "ipython",
    "version": 3
   },
   "file_extension": ".py",
   "mimetype": "text/x-python",
   "name": "python",
   "nbconvert_exporter": "python",
   "pygments_lexer": "ipython3",
   "version": "3.7.7"
  }
 },
 "nbformat": 4,
 "nbformat_minor": 4
}
